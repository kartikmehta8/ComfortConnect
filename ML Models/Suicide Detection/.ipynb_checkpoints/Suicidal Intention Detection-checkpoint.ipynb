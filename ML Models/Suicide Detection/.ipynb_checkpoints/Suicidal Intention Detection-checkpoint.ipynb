{
 "cells": [
  {
   "cell_type": "code",
   "execution_count": 4,
   "id": "03f72e27",
   "metadata": {},
   "outputs": [],
   "source": [
    "import re\n",
    "import numpy as np\n",
    "import pandas as pd\n",
    "import preprocess_kgptalkie as ps"
   ]
  },
  {
   "cell_type": "code",
   "execution_count": 5,
   "id": "aa255fbf",
   "metadata": {},
   "outputs": [],
   "source": [
    "df = pd.read_csv(\"suicide_dataset.csv\")"
   ]
  },
  {
   "cell_type": "code",
   "execution_count": 6,
   "id": "982bfb76",
   "metadata": {},
   "outputs": [
    {
     "name": "stdout",
     "output_type": "stream",
     "text": [
      "                                               tweet  intention\n",
      "0  my life is meaningless i just want to end my l...          1\n",
      "1  muttering i wanna die to myself daily for a fe...          1\n",
      "2  work slave i really feel like my only purpose ...          1\n",
      "3  i did something on the 2 of october i overdose...          1\n",
      "4  i feel like no one cares i just want to die ma...          1\n"
     ]
    }
   ],
   "source": [
    "print(df.head())"
   ]
  },
  {
   "cell_type": "code",
   "execution_count": 7,
   "id": "b2af08c6",
   "metadata": {},
   "outputs": [],
   "source": [
    "def get_clean(x):\n",
    "    x = str(x).lower().replace('\\\\', '').replace('_', ' ')\n",
    "    x = ps.cont_exp(x)\n",
    "    x = ps.remove_emails(x)\n",
    "    x = ps.remove_urls(x)\n",
    "    x = ps.remove_html_tags(x)\n",
    "    x = ps.remove_rt(x)\n",
    "    x = ps.remove_accented_chars(x)\n",
    "    x = ps.remove_special_chars(x)\n",
    "    x = re.sub(\"(.)\\\\1{2,}\", \"\\\\1\", x)\n",
    "    return x"
   ]
  },
  {
   "cell_type": "code",
   "execution_count": 8,
   "id": "c17aa984",
   "metadata": {},
   "outputs": [],
   "source": [
    "df['tweet'] = df['tweet'].apply(lambda x: get_clean(x))"
   ]
  },
  {
   "cell_type": "code",
   "execution_count": 9,
   "id": "39a986d1",
   "metadata": {},
   "outputs": [],
   "source": [
    "from sklearn.feature_extraction.text import TfidfVectorizer\n",
    "from sklearn.model_selection import train_test_split\n",
    "from sklearn.metrics import classification_report\n",
    "from sklearn.svm import LinearSVC"
   ]
  },
  {
   "cell_type": "code",
   "execution_count": 10,
   "id": "f6b4318b",
   "metadata": {},
   "outputs": [],
   "source": [
    "tfidf = TfidfVectorizer(max_features=20000, ngram_range=(1,3), analyzer='char')"
   ]
  },
  {
   "cell_type": "code",
   "execution_count": 11,
   "id": "99846f5a",
   "metadata": {},
   "outputs": [],
   "source": [
    "X = tfidf.fit_transform(df['tweet'])\n",
    "y = df['intention']"
   ]
  },
  {
   "cell_type": "code",
   "execution_count": 12,
   "id": "6f505b49",
   "metadata": {},
   "outputs": [],
   "source": [
    "x_train, x_test, y_train, y_test = train_test_split(X,y, test_size=0.2, random_state=0)"
   ]
  },
  {
   "cell_type": "code",
   "execution_count": 13,
   "id": "43c07dfc",
   "metadata": {},
   "outputs": [
    {
     "data": {
      "text/plain": [
       "LinearSVC()"
      ]
     },
     "execution_count": 13,
     "metadata": {},
     "output_type": "execute_result"
    }
   ],
   "source": [
    "model = LinearSVC()\n",
    "model.fit(x_train,y_train)"
   ]
  },
  {
   "cell_type": "code",
   "execution_count": 14,
   "id": "2d93ae1e",
   "metadata": {},
   "outputs": [],
   "source": [
    "y_pred = model.predict(x_test)"
   ]
  },
  {
   "cell_type": "code",
   "execution_count": 15,
   "id": "218e0503",
   "metadata": {},
   "outputs": [
    {
     "name": "stdout",
     "output_type": "stream",
     "text": [
      "              precision    recall  f1-score   support\n",
      "\n",
      "           0       0.94      0.93      0.93      1060\n",
      "           1       0.91      0.91      0.91       764\n",
      "\n",
      "    accuracy                           0.92      1824\n",
      "   macro avg       0.92      0.92      0.92      1824\n",
      "weighted avg       0.92      0.92      0.92      1824\n",
      "\n"
     ]
    }
   ],
   "source": [
    "print(classification_report(y_test,y_pred))"
   ]
  },
  {
   "cell_type": "code",
   "execution_count": 16,
   "id": "1e1ebf9a",
   "metadata": {},
   "outputs": [],
   "source": [
    "t = \"My whole life has just been mistakes and failings. When I look back on my past it’s all I see. When I look toward the future it’s all I see. I truly am an idiot and a fuckup. I am often called a loser or other such things. No use in disagreeing with the truth. Things could have been different if I had used my brain, but I’m clearly too stupid for that. I wish I could be saved, to be happy, and for others to be happy too.\"\n",
    "u = \"I had an amazing day. I got a 100$ note on the way to subway.\""
   ]
  },
  {
   "cell_type": "code",
   "execution_count": 17,
   "id": "78d914c5",
   "metadata": {},
   "outputs": [],
   "source": [
    "def predict_tendency(x):\n",
    "    x = get_clean(x)\n",
    "    vec = tfidf.transform([x])\n",
    "    if model.predict(vec)[0] == 1:\n",
    "        print(\"suicidal\")\n",
    "    else:\n",
    "        print(\"fine\")"
   ]
  },
  {
   "cell_type": "code",
   "execution_count": 18,
   "id": "4b2f03d1",
   "metadata": {},
   "outputs": [
    {
     "name": "stdout",
     "output_type": "stream",
     "text": [
      "suicidal\n",
      "fine\n"
     ]
    }
   ],
   "source": [
    "predict_tendency(t)\n",
    "predict_tendency(u)"
   ]
  },
  {
   "cell_type": "code",
   "execution_count": 19,
   "id": "f26fb66e",
   "metadata": {},
   "outputs": [],
   "source": [
    "#Saving Model\n",
    "import joblib\n",
    "pkl_file = open(\"SuicideModel.pkl\",\"wb\")\n",
    "joblib.dump(model,pkl_file)\n",
    "pkl_file.close()"
   ]
  },
  {
   "cell_type": "code",
   "execution_count": 20,
   "id": "ea7b723b",
   "metadata": {},
   "outputs": [],
   "source": [
    "data = joblib.load('SuicideModel.pkl')"
   ]
  },
  {
   "cell_type": "code",
   "execution_count": null,
   "id": "dd838322",
   "metadata": {},
   "outputs": [],
   "source": []
  }
 ],
 "metadata": {
  "kernelspec": {
   "display_name": "Python 3 (ipykernel)",
   "language": "python",
   "name": "python3"
  },
  "language_info": {
   "codemirror_mode": {
    "name": "ipython",
    "version": 3
   },
   "file_extension": ".py",
   "mimetype": "text/x-python",
   "name": "python",
   "nbconvert_exporter": "python",
   "pygments_lexer": "ipython3",
   "version": "3.9.12"
  }
 },
 "nbformat": 4,
 "nbformat_minor": 5
}
