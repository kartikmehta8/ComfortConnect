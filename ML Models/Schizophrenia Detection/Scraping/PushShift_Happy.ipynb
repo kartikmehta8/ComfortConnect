{
 "cells": [
  {
   "cell_type": "markdown",
   "id": "d0041c29",
   "metadata": {},
   "source": [
    "r/jokes, r/fitness, r/meditation, r/parenting, r/relationships, and r/teaching"
   ]
  },
  {
   "cell_type": "code",
   "execution_count": 1,
   "id": "a686172f",
   "metadata": {},
   "outputs": [],
   "source": [
    "import pandas as pd\n",
    "import datetime as dt"
   ]
  },
  {
   "cell_type": "code",
   "execution_count": 2,
   "id": "8eb222e6",
   "metadata": {},
   "outputs": [],
   "source": [
    "from psaw import PushshiftAPI\n",
    "\n",
    "api = PushshiftAPI()"
   ]
  },
  {
   "cell_type": "code",
   "execution_count": 3,
   "id": "3c634352",
   "metadata": {},
   "outputs": [],
   "source": [
    "start_epoch=int(dt.datetime(2021, 5, 1).timestamp())"
   ]
  },
  {
   "cell_type": "code",
   "execution_count": 71,
   "id": "d3f6e5b7",
   "metadata": {},
   "outputs": [],
   "source": [
    "api_request_generator = api.search_submissions(before=start_epoch, subreddit='meditation', limit=2000)"
   ]
  },
  {
   "cell_type": "code",
   "execution_count": 72,
   "id": "170ab9dd",
   "metadata": {
    "scrolled": true
   },
   "outputs": [
    {
     "name": "stderr",
     "output_type": "stream",
     "text": [
      "C:\\Users\\Gaurisha R Srivastav\\AppData\\Local\\Programs\\Python\\Python39\\lib\\site-packages\\psaw\\PushshiftAPI.py:252: UserWarning: Not all PushShift shards are active. Query results may be incomplete\n",
      "  warnings.warn(shards_down_message)\n"
     ]
    }
   ],
   "source": [
    "aita_submissions = pd.DataFrame([submission.d_ for submission in api_request_generator])"
   ]
  },
  {
   "cell_type": "code",
   "execution_count": 73,
   "id": "0cc4c25c",
   "metadata": {},
   "outputs": [],
   "source": [
    "aita_submissions['date'] = pd.to_datetime(aita_submissions['created_utc'], utc=True, unit='s')"
   ]
  },
  {
   "cell_type": "code",
   "execution_count": 74,
   "id": "02927882",
   "metadata": {},
   "outputs": [],
   "source": [
    "meditation = pd.DataFrame(aita_submissions[['author', 'date', 'title', 'selftext']])"
   ]
  },
  {
   "cell_type": "code",
   "execution_count": 75,
   "id": "105a9144",
   "metadata": {
    "scrolled": true
   },
   "outputs": [
    {
     "data": {
      "text/html": [
       "<div>\n",
       "<style scoped>\n",
       "    .dataframe tbody tr th:only-of-type {\n",
       "        vertical-align: middle;\n",
       "    }\n",
       "\n",
       "    .dataframe tbody tr th {\n",
       "        vertical-align: top;\n",
       "    }\n",
       "\n",
       "    .dataframe thead th {\n",
       "        text-align: right;\n",
       "    }\n",
       "</style>\n",
       "<table border=\"1\" class=\"dataframe\">\n",
       "  <thead>\n",
       "    <tr style=\"text-align: right;\">\n",
       "      <th></th>\n",
       "      <th>author</th>\n",
       "      <th>date</th>\n",
       "      <th>title</th>\n",
       "      <th>selftext</th>\n",
       "    </tr>\n",
       "  </thead>\n",
       "  <tbody>\n",
       "    <tr>\n",
       "      <th>0</th>\n",
       "      <td>THEBESTYANYCH</td>\n",
       "      <td>2021-04-30 18:25:05+00:00</td>\n",
       "      <td>Really easy way to improve meditation skills</td>\n",
       "      <td>[removed]</td>\n",
       "    </tr>\n",
       "    <tr>\n",
       "      <th>1</th>\n",
       "      <td>Thin_Environment6114</td>\n",
       "      <td>2021-04-30 18:18:52+00:00</td>\n",
       "      <td>No matter what you do give it your everything ...</td>\n",
       "      <td>In this video we talk about the [present and h...</td>\n",
       "    </tr>\n",
       "    <tr>\n",
       "      <th>2</th>\n",
       "      <td>DymyZy</td>\n",
       "      <td>2021-04-30 18:11:01+00:00</td>\n",
       "      <td>Relaxation music for meditation</td>\n",
       "      <td>[removed]</td>\n",
       "    </tr>\n",
       "    <tr>\n",
       "      <th>3</th>\n",
       "      <td>Judemarley</td>\n",
       "      <td>2021-04-30 18:03:58+00:00</td>\n",
       "      <td>Meditation fundraising challenge</td>\n",
       "      <td>Hi All,\\n\\nI am taking part in a meditation fu...</td>\n",
       "    </tr>\n",
       "    <tr>\n",
       "      <th>4</th>\n",
       "      <td>Snoo62866</td>\n",
       "      <td>2021-04-30 17:37:48+00:00</td>\n",
       "      <td>Meditation Products!</td>\n",
       "      <td>[removed]</td>\n",
       "    </tr>\n",
       "    <tr>\n",
       "      <th>...</th>\n",
       "      <td>...</td>\n",
       "      <td>...</td>\n",
       "      <td>...</td>\n",
       "      <td>...</td>\n",
       "    </tr>\n",
       "    <tr>\n",
       "      <th>1992</th>\n",
       "      <td>nbachickenlover</td>\n",
       "      <td>2021-03-31 18:42:42+00:00</td>\n",
       "      <td>Anybody else have vastly different experiences...</td>\n",
       "      <td>Meditating outside for me is so easy and delig...</td>\n",
       "    </tr>\n",
       "    <tr>\n",
       "      <th>1993</th>\n",
       "      <td>Own_Your_Excellence</td>\n",
       "      <td>2021-03-31 18:30:10+00:00</td>\n",
       "      <td>How To Stop Negative Thoughts While Manifestin...</td>\n",
       "      <td>[removed]</td>\n",
       "    </tr>\n",
       "    <tr>\n",
       "      <th>1994</th>\n",
       "      <td>panicsnac</td>\n",
       "      <td>2021-03-31 18:27:46+00:00</td>\n",
       "      <td>Using the stopwatch instead of a timer.</td>\n",
       "      <td>There was a post here by someone a few days ba...</td>\n",
       "    </tr>\n",
       "    <tr>\n",
       "      <th>1995</th>\n",
       "      <td>saladios</td>\n",
       "      <td>2021-03-31 18:16:56+00:00</td>\n",
       "      <td>Massive Lump In Throat While Meditating?</td>\n",
       "      <td>Hi! I’m very new to this sub &amp;amp; very new to...</td>\n",
       "    </tr>\n",
       "    <tr>\n",
       "      <th>1996</th>\n",
       "      <td>caliking1986</td>\n",
       "      <td>2021-03-31 18:09:15+00:00</td>\n",
       "      <td>Manifest through your thoughts.</td>\n",
       "      <td>[removed]</td>\n",
       "    </tr>\n",
       "  </tbody>\n",
       "</table>\n",
       "<p>1997 rows × 4 columns</p>\n",
       "</div>"
      ],
      "text/plain": [
       "                    author                      date  \\\n",
       "0            THEBESTYANYCH 2021-04-30 18:25:05+00:00   \n",
       "1     Thin_Environment6114 2021-04-30 18:18:52+00:00   \n",
       "2                   DymyZy 2021-04-30 18:11:01+00:00   \n",
       "3               Judemarley 2021-04-30 18:03:58+00:00   \n",
       "4                Snoo62866 2021-04-30 17:37:48+00:00   \n",
       "...                    ...                       ...   \n",
       "1992       nbachickenlover 2021-03-31 18:42:42+00:00   \n",
       "1993   Own_Your_Excellence 2021-03-31 18:30:10+00:00   \n",
       "1994             panicsnac 2021-03-31 18:27:46+00:00   \n",
       "1995              saladios 2021-03-31 18:16:56+00:00   \n",
       "1996          caliking1986 2021-03-31 18:09:15+00:00   \n",
       "\n",
       "                                                  title  \\\n",
       "0          Really easy way to improve meditation skills   \n",
       "1     No matter what you do give it your everything ...   \n",
       "2                       Relaxation music for meditation   \n",
       "3                      Meditation fundraising challenge   \n",
       "4                                  Meditation Products!   \n",
       "...                                                 ...   \n",
       "1992  Anybody else have vastly different experiences...   \n",
       "1993  How To Stop Negative Thoughts While Manifestin...   \n",
       "1994            Using the stopwatch instead of a timer.   \n",
       "1995           Massive Lump In Throat While Meditating?   \n",
       "1996                    Manifest through your thoughts.   \n",
       "\n",
       "                                               selftext  \n",
       "0                                             [removed]  \n",
       "1     In this video we talk about the [present and h...  \n",
       "2                                             [removed]  \n",
       "3     Hi All,\\n\\nI am taking part in a meditation fu...  \n",
       "4                                             [removed]  \n",
       "...                                                 ...  \n",
       "1992  Meditating outside for me is so easy and delig...  \n",
       "1993                                          [removed]  \n",
       "1994  There was a post here by someone a few days ba...  \n",
       "1995  Hi! I’m very new to this sub &amp; very new to...  \n",
       "1996                                          [removed]  \n",
       "\n",
       "[1997 rows x 4 columns]"
      ]
     },
     "execution_count": 75,
     "metadata": {},
     "output_type": "execute_result"
    }
   ],
   "source": [
    "meditation"
   ]
  },
  {
   "cell_type": "code",
   "execution_count": 86,
   "id": "ecf8d87c",
   "metadata": {},
   "outputs": [
    {
     "data": {
      "text/plain": [
       "False"
      ]
     },
     "execution_count": 86,
     "metadata": {},
     "output_type": "execute_result"
    }
   ],
   "source": [
    "meditation.isnull().values.any()"
   ]
  },
  {
   "cell_type": "code",
   "execution_count": 77,
   "id": "55f14c2e",
   "metadata": {},
   "outputs": [],
   "source": [
    "meditation.dropna(inplace=True)"
   ]
  },
  {
   "cell_type": "code",
   "execution_count": 78,
   "id": "070bbea6",
   "metadata": {},
   "outputs": [
    {
     "name": "stdout",
     "output_type": "stream",
     "text": [
      "1996\n"
     ]
    }
   ],
   "source": [
    "print(len(meditation))"
   ]
  },
  {
   "cell_type": "code",
   "execution_count": 79,
   "id": "5e1d587b",
   "metadata": {},
   "outputs": [],
   "source": [
    "idx = meditation[meditation['selftext']=='[removed]'].index"
   ]
  },
  {
   "cell_type": "code",
   "execution_count": 80,
   "id": "39f4a6ed",
   "metadata": {},
   "outputs": [],
   "source": [
    "meditation.drop(idx, inplace = True)"
   ]
  },
  {
   "cell_type": "code",
   "execution_count": 81,
   "id": "4387ff59",
   "metadata": {},
   "outputs": [
    {
     "name": "stdout",
     "output_type": "stream",
     "text": [
      "1590\n"
     ]
    }
   ],
   "source": [
    "print(len(meditation))"
   ]
  },
  {
   "cell_type": "code",
   "execution_count": 82,
   "id": "6ee73bfc",
   "metadata": {},
   "outputs": [],
   "source": [
    "idx = meditation[meditation['selftext']==''].index"
   ]
  },
  {
   "cell_type": "code",
   "execution_count": 83,
   "id": "b69c3b16",
   "metadata": {},
   "outputs": [],
   "source": [
    "meditation.drop(idx, inplace = True)"
   ]
  },
  {
   "cell_type": "code",
   "execution_count": 84,
   "id": "95dc54e5",
   "metadata": {},
   "outputs": [
    {
     "name": "stdout",
     "output_type": "stream",
     "text": [
      "1457\n"
     ]
    }
   ],
   "source": [
    "print(len(meditation))"
   ]
  },
  {
   "cell_type": "code",
   "execution_count": 85,
   "id": "067cf890",
   "metadata": {},
   "outputs": [],
   "source": [
    "meditation.to_csv('meditation.csv')"
   ]
  },
  {
   "cell_type": "code",
   "execution_count": null,
   "id": "1cc940e7",
   "metadata": {},
   "outputs": [],
   "source": []
  }
 ],
 "metadata": {
  "kernelspec": {
   "display_name": "Python 3 (ipykernel)",
   "language": "python",
   "name": "python3"
  },
  "language_info": {
   "codemirror_mode": {
    "name": "ipython",
    "version": 3
   },
   "file_extension": ".py",
   "mimetype": "text/x-python",
   "name": "python",
   "nbconvert_exporter": "python",
   "pygments_lexer": "ipython3",
   "version": "3.9.5"
  }
 },
 "nbformat": 4,
 "nbformat_minor": 5
}
