{
 "cells": [
  {
   "cell_type": "code",
   "execution_count": 5,
   "id": "60be7b90",
   "metadata": {},
   "outputs": [],
   "source": [
    "import pandas as pd\n",
    "import datetime as dt"
   ]
  },
  {
   "cell_type": "code",
   "execution_count": 6,
   "id": "ce10eccf",
   "metadata": {},
   "outputs": [],
   "source": [
    "from psaw import PushshiftAPI\n",
    "\n",
    "# Initialize PushShift\n",
    "api = PushshiftAPI()"
   ]
  },
  {
   "cell_type": "code",
   "execution_count": 23,
   "id": "20588fe9",
   "metadata": {},
   "outputs": [],
   "source": [
    "start_epoch=int(dt.datetime(2020, 12, 1).timestamp())"
   ]
  },
  {
   "cell_type": "code",
   "execution_count": 24,
   "id": "7054c356",
   "metadata": {},
   "outputs": [],
   "source": [
    "api_request_generator = api.search_submissions(before=start_epoch, subreddit='schizophrenia', limit=5000)"
   ]
  },
  {
   "cell_type": "code",
   "execution_count": 25,
   "id": "96cf7928",
   "metadata": {},
   "outputs": [
    {
     "name": "stderr",
     "output_type": "stream",
     "text": [
      "C:\\Users\\Gaurisha R Srivastav\\AppData\\Local\\Programs\\Python\\Python39\\lib\\site-packages\\psaw\\PushshiftAPI.py:252: UserWarning: Not all PushShift shards are active. Query results may be incomplete\n",
      "  warnings.warn(shards_down_message)\n"
     ]
    }
   ],
   "source": [
    "aita_submissions = pd.DataFrame([submission.d_ for submission in api_request_generator])"
   ]
  },
  {
   "cell_type": "code",
   "execution_count": 26,
   "id": "b3e2910b",
   "metadata": {},
   "outputs": [
    {
     "data": {
      "text/plain": [
       "Index(['all_awardings', 'allow_live_comments', 'author',\n",
       "       'author_flair_css_class', 'author_flair_richtext', 'author_flair_text',\n",
       "       'author_flair_type', 'author_fullname', 'author_patreon_flair',\n",
       "       'author_premium', 'awarders', 'can_mod_post', 'contest_mode',\n",
       "       'created_utc', 'domain', 'full_link', 'gildings', 'id',\n",
       "       'is_crosspostable', 'is_meta', 'is_original_content',\n",
       "       'is_reddit_media_domain', 'is_robot_indexable', 'is_self', 'is_video',\n",
       "       'link_flair_background_color', 'link_flair_richtext',\n",
       "       'link_flair_text_color', 'link_flair_type', 'locked', 'media_only',\n",
       "       'no_follow', 'num_comments', 'num_crossposts', 'over_18',\n",
       "       'parent_whitelist_status', 'permalink', 'pinned', 'pwls',\n",
       "       'retrieved_on', 'score', 'selftext', 'send_replies', 'spoiler',\n",
       "       'stickied', 'subreddit', 'subreddit_id', 'subreddit_subscribers',\n",
       "       'subreddit_type', 'thumbnail', 'title', 'total_awards_received',\n",
       "       'treatment_tags', 'upvote_ratio', 'url', 'whitelist_status', 'wls',\n",
       "       'created', 'author_flair_background_color', 'author_flair_template_id',\n",
       "       'author_flair_text_color', 'link_flair_template_id', 'link_flair_text',\n",
       "       'post_hint', 'preview', 'thumbnail_height', 'thumbnail_width',\n",
       "       'url_overridden_by_dest', 'media', 'media_embed', 'secure_media',\n",
       "       'secure_media_embed', 'gallery_data', 'is_gallery', 'media_metadata',\n",
       "       'removed_by_category', 'crosspost_parent', 'crosspost_parent_list',\n",
       "       'poll_data', 'edited', 'gilded', 'author_cakeday', 'banned_by'],\n",
       "      dtype='object')"
      ]
     },
     "execution_count": 26,
     "metadata": {},
     "output_type": "execute_result"
    }
   ],
   "source": [
    "aita_submissions.columns"
   ]
  },
  {
   "cell_type": "code",
   "execution_count": 27,
   "id": "8a530bc5",
   "metadata": {},
   "outputs": [],
   "source": [
    "aita_submissions['date'] = pd.to_datetime(aita_submissions['created_utc'], utc=True, unit='s')"
   ]
  },
  {
   "cell_type": "code",
   "execution_count": 28,
   "id": "dd37cbd3",
   "metadata": {
    "scrolled": false
   },
   "outputs": [],
   "source": [
    "schi = pd.DataFrame(aita_submissions[['link_flair_text','author', 'date', 'title', 'selftext']])"
   ]
  },
  {
   "cell_type": "code",
   "execution_count": 29,
   "id": "6e598894",
   "metadata": {},
   "outputs": [],
   "source": [
    "schi.to_csv('schizophrenia.csv', mode='a', index=False, header=False)"
   ]
  },
  {
   "cell_type": "code",
   "execution_count": 30,
   "id": "d86a6bcf",
   "metadata": {},
   "outputs": [
    {
     "data": {
      "text/html": [
       "<div>\n",
       "<style scoped>\n",
       "    .dataframe tbody tr th:only-of-type {\n",
       "        vertical-align: middle;\n",
       "    }\n",
       "\n",
       "    .dataframe tbody tr th {\n",
       "        vertical-align: top;\n",
       "    }\n",
       "\n",
       "    .dataframe thead th {\n",
       "        text-align: right;\n",
       "    }\n",
       "</style>\n",
       "<table border=\"1\" class=\"dataframe\">\n",
       "  <thead>\n",
       "    <tr style=\"text-align: right;\">\n",
       "      <th></th>\n",
       "      <th>link_flair_text</th>\n",
       "      <th>author</th>\n",
       "      <th>date</th>\n",
       "      <th>title</th>\n",
       "      <th>selftext</th>\n",
       "    </tr>\n",
       "  </thead>\n",
       "  <tbody>\n",
       "    <tr>\n",
       "      <th>0</th>\n",
       "      <td>Seeking Support</td>\n",
       "      <td>Null-__-</td>\n",
       "      <td>2022-02-03 17:50:49+00:00</td>\n",
       "      <td>It wants me to stop taking my meds and makes m...</td>\n",
       "      <td>[removed]</td>\n",
       "    </tr>\n",
       "    <tr>\n",
       "      <th>1</th>\n",
       "      <td>Seeking Support</td>\n",
       "      <td>Null-__-</td>\n",
       "      <td>2022-02-03 17:47:02+00:00</td>\n",
       "      <td>Current feeling help is appriciated</td>\n",
       "      <td>NaN</td>\n",
       "    </tr>\n",
       "    <tr>\n",
       "      <th>2</th>\n",
       "      <td>Opinion / Thought / Idea / Discussion</td>\n",
       "      <td>NightmareWarrior365</td>\n",
       "      <td>2022-02-03 16:23:16+00:00</td>\n",
       "      <td>Is anybodys symptoms calm on certain days?</td>\n",
       "      <td>Some days it's terrible, some days it's mild, ...</td>\n",
       "    </tr>\n",
       "    <tr>\n",
       "      <th>3</th>\n",
       "      <td>Advice / Encouragement</td>\n",
       "      <td>prohitzz</td>\n",
       "      <td>2022-02-03 16:21:17+00:00</td>\n",
       "      <td>I'm in your walls.</td>\n",
       "      <td>[removed]</td>\n",
       "    </tr>\n",
       "    <tr>\n",
       "      <th>4</th>\n",
       "      <td>Advice / Encouragement</td>\n",
       "      <td>Illustrious_Space760</td>\n",
       "      <td>2022-02-03 15:35:48+00:00</td>\n",
       "      <td>It'll be okay.</td>\n",
       "      <td>NaN</td>\n",
       "    </tr>\n",
       "    <tr>\n",
       "      <th>...</th>\n",
       "      <td>...</td>\n",
       "      <td>...</td>\n",
       "      <td>...</td>\n",
       "      <td>...</td>\n",
       "      <td>...</td>\n",
       "    </tr>\n",
       "    <tr>\n",
       "      <th>15949</th>\n",
       "      <td>NaN</td>\n",
       "      <td>tachankaisgud</td>\n",
       "      <td>2020-08-08 18:09:34+00:00</td>\n",
       "      <td>Will schizophrenia (if I have it) affect the o...</td>\n",
       "      <td>NaN</td>\n",
       "    </tr>\n",
       "    <tr>\n",
       "      <th>15950</th>\n",
       "      <td>Meme</td>\n",
       "      <td>BetweenTheHammerAndT</td>\n",
       "      <td>2020-08-08 17:08:33+00:00</td>\n",
       "      <td>Meme I came up with.</td>\n",
       "      <td>NaN</td>\n",
       "    </tr>\n",
       "    <tr>\n",
       "      <th>15951</th>\n",
       "      <td>Help</td>\n",
       "      <td>Acapell0</td>\n",
       "      <td>2020-08-08 16:35:15+00:00</td>\n",
       "      <td>When you talk about politics and your intrusiv...</td>\n",
       "      <td>😑🖕🏾</td>\n",
       "    </tr>\n",
       "    <tr>\n",
       "      <th>15952</th>\n",
       "      <td>NaN</td>\n",
       "      <td>mard92i</td>\n",
       "      <td>2020-08-08 15:33:45+00:00</td>\n",
       "      <td>Am I or my future children in danger if I get ...</td>\n",
       "      <td>Hello everyone,\\n\\nLet me briefly describe my ...</td>\n",
       "    </tr>\n",
       "    <tr>\n",
       "      <th>15953</th>\n",
       "      <td>NaN</td>\n",
       "      <td>honeysucklejupiter</td>\n",
       "      <td>2020-08-08 15:23:14+00:00</td>\n",
       "      <td>Can I vent?</td>\n",
       "      <td>Hi, i've stalked this subreddit and i'm not su...</td>\n",
       "    </tr>\n",
       "  </tbody>\n",
       "</table>\n",
       "<p>15954 rows × 5 columns</p>\n",
       "</div>"
      ],
      "text/plain": [
       "                              link_flair_text                author  \\\n",
       "0                             Seeking Support              Null-__-   \n",
       "1                             Seeking Support              Null-__-   \n",
       "2      Opinion / Thought / Idea / Discussion    NightmareWarrior365   \n",
       "3                      Advice / Encouragement              prohitzz   \n",
       "4                      Advice / Encouragement  Illustrious_Space760   \n",
       "...                                       ...                   ...   \n",
       "15949                                     NaN         tachankaisgud   \n",
       "15950                                    Meme  BetweenTheHammerAndT   \n",
       "15951                                    Help              Acapell0   \n",
       "15952                                     NaN               mard92i   \n",
       "15953                                     NaN    honeysucklejupiter   \n",
       "\n",
       "                            date  \\\n",
       "0      2022-02-03 17:50:49+00:00   \n",
       "1      2022-02-03 17:47:02+00:00   \n",
       "2      2022-02-03 16:23:16+00:00   \n",
       "3      2022-02-03 16:21:17+00:00   \n",
       "4      2022-02-03 15:35:48+00:00   \n",
       "...                          ...   \n",
       "15949  2020-08-08 18:09:34+00:00   \n",
       "15950  2020-08-08 17:08:33+00:00   \n",
       "15951  2020-08-08 16:35:15+00:00   \n",
       "15952  2020-08-08 15:33:45+00:00   \n",
       "15953  2020-08-08 15:23:14+00:00   \n",
       "\n",
       "                                                   title  \\\n",
       "0      It wants me to stop taking my meds and makes m...   \n",
       "1                    Current feeling help is appriciated   \n",
       "2             Is anybodys symptoms calm on certain days?   \n",
       "3                                     I'm in your walls.   \n",
       "4                                         It'll be okay.   \n",
       "...                                                  ...   \n",
       "15949  Will schizophrenia (if I have it) affect the o...   \n",
       "15950                               Meme I came up with.   \n",
       "15951  When you talk about politics and your intrusiv...   \n",
       "15952  Am I or my future children in danger if I get ...   \n",
       "15953                                        Can I vent?   \n",
       "\n",
       "                                                selftext  \n",
       "0                                              [removed]  \n",
       "1                                                    NaN  \n",
       "2      Some days it's terrible, some days it's mild, ...  \n",
       "3                                              [removed]  \n",
       "4                                                    NaN  \n",
       "...                                                  ...  \n",
       "15949                                                NaN  \n",
       "15950                                                NaN  \n",
       "15951                                                😑🖕🏾  \n",
       "15952  Hello everyone,\\n\\nLet me briefly describe my ...  \n",
       "15953  Hi, i've stalked this subreddit and i'm not su...  \n",
       "\n",
       "[15954 rows x 5 columns]"
      ]
     },
     "execution_count": 30,
     "metadata": {},
     "output_type": "execute_result"
    }
   ],
   "source": [
    "pd.read_csv(\"schizophrenia.csv\")"
   ]
  },
  {
   "cell_type": "code",
   "execution_count": null,
   "id": "658f102c",
   "metadata": {},
   "outputs": [],
   "source": []
  }
 ],
 "metadata": {
  "kernelspec": {
   "display_name": "Python 3 (ipykernel)",
   "language": "python",
   "name": "python3"
  },
  "language_info": {
   "codemirror_mode": {
    "name": "ipython",
    "version": 3
   },
   "file_extension": ".py",
   "mimetype": "text/x-python",
   "name": "python",
   "nbconvert_exporter": "python",
   "pygments_lexer": "ipython3",
   "version": "3.9.5"
  }
 },
 "nbformat": 4,
 "nbformat_minor": 5
}
