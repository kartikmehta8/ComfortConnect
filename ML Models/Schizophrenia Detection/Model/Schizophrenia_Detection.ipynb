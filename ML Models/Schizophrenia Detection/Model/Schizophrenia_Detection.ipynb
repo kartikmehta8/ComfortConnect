{
 "cells": [
  {
   "cell_type": "code",
   "execution_count": 1,
   "id": "03f72e27",
   "metadata": {},
   "outputs": [],
   "source": [
    "import re\n",
    "import numpy as np\n",
    "import pandas as pd\n",
    "import preprocess_kgptalkie as ps"
   ]
  },
  {
   "cell_type": "code",
   "execution_count": 2,
   "id": "12557705",
   "metadata": {},
   "outputs": [],
   "source": [
    "# !pip install joblib --upgrade"
   ]
  },
  {
   "cell_type": "code",
   "execution_count": 3,
   "id": "aa255fbf",
   "metadata": {},
   "outputs": [],
   "source": [
    "df = pd.read_csv(\"dataset.csv\")"
   ]
  },
  {
   "cell_type": "code",
   "execution_count": 4,
   "id": "982bfb76",
   "metadata": {
    "scrolled": true
   },
   "outputs": [
    {
     "data": {
      "text/html": [
       "<div>\n",
       "<style scoped>\n",
       "    .dataframe tbody tr th:only-of-type {\n",
       "        vertical-align: middle;\n",
       "    }\n",
       "\n",
       "    .dataframe tbody tr th {\n",
       "        vertical-align: top;\n",
       "    }\n",
       "\n",
       "    .dataframe thead th {\n",
       "        text-align: right;\n",
       "    }\n",
       "</style>\n",
       "<table border=\"1\" class=\"dataframe\">\n",
       "  <thead>\n",
       "    <tr style=\"text-align: right;\">\n",
       "      <th></th>\n",
       "      <th>author</th>\n",
       "      <th>date</th>\n",
       "      <th>title</th>\n",
       "      <th>selftext</th>\n",
       "      <th>text</th>\n",
       "      <th>label</th>\n",
       "    </tr>\n",
       "  </thead>\n",
       "  <tbody>\n",
       "    <tr>\n",
       "      <th>0</th>\n",
       "      <td>NightmareWarrior365</td>\n",
       "      <td>2022-02-03 16:23:16+00:00</td>\n",
       "      <td>is anybodys symptoms calm on certain days</td>\n",
       "      <td>some days it is terrible some days it is mild ...</td>\n",
       "      <td>is anybodys symptoms calm on certain days some...</td>\n",
       "      <td>1</td>\n",
       "    </tr>\n",
       "    <tr>\n",
       "      <th>1</th>\n",
       "      <td>Valiquette_sjm</td>\n",
       "      <td>2022-02-03 14:52:44+00:00</td>\n",
       "      <td>what is voodoo</td>\n",
       "      <td>i suffer from thought broadcasting i believe m...</td>\n",
       "      <td>what is voodoo i suffer from thought broadcast...</td>\n",
       "      <td>1</td>\n",
       "    </tr>\n",
       "    <tr>\n",
       "      <th>2</th>\n",
       "      <td>blueowl89</td>\n",
       "      <td>2022-02-03 13:57:24+00:00</td>\n",
       "      <td>are you a morning person or a night owl</td>\n",
       "      <td>i am 100 a night owl myself i think best at ni...</td>\n",
       "      <td>are you a morning person or a night owl i am 1...</td>\n",
       "      <td>1</td>\n",
       "    </tr>\n",
       "    <tr>\n",
       "      <th>3</th>\n",
       "      <td>Sz728</td>\n",
       "      <td>2022-02-03 11:20:04+00:00</td>\n",
       "      <td>ugh cant sleep</td>\n",
       "      <td>sorry i always vent here stuff that nobody wan...</td>\n",
       "      <td>ugh cant sleep sorry i always vent here stuff ...</td>\n",
       "      <td>1</td>\n",
       "    </tr>\n",
       "    <tr>\n",
       "      <th>4</th>\n",
       "      <td>ToughtSpiritNow</td>\n",
       "      <td>2022-02-03 10:45:51+00:00</td>\n",
       "      <td>that is had it</td>\n",
       "      <td>constant battle everything needs to be done i ...</td>\n",
       "      <td>that is had it constant battle everything need...</td>\n",
       "      <td>1</td>\n",
       "    </tr>\n",
       "  </tbody>\n",
       "</table>\n",
       "</div>"
      ],
      "text/plain": [
       "                author                       date  \\\n",
       "0  NightmareWarrior365  2022-02-03 16:23:16+00:00   \n",
       "1       Valiquette_sjm  2022-02-03 14:52:44+00:00   \n",
       "2            blueowl89  2022-02-03 13:57:24+00:00   \n",
       "3                Sz728  2022-02-03 11:20:04+00:00   \n",
       "4      ToughtSpiritNow  2022-02-03 10:45:51+00:00   \n",
       "\n",
       "                                       title  \\\n",
       "0  is anybodys symptoms calm on certain days   \n",
       "1                             what is voodoo   \n",
       "2    are you a morning person or a night owl   \n",
       "3                             ugh cant sleep   \n",
       "4                             that is had it   \n",
       "\n",
       "                                            selftext  \\\n",
       "0  some days it is terrible some days it is mild ...   \n",
       "1  i suffer from thought broadcasting i believe m...   \n",
       "2  i am 100 a night owl myself i think best at ni...   \n",
       "3  sorry i always vent here stuff that nobody wan...   \n",
       "4  constant battle everything needs to be done i ...   \n",
       "\n",
       "                                                text  label  \n",
       "0  is anybodys symptoms calm on certain days some...      1  \n",
       "1  what is voodoo i suffer from thought broadcast...      1  \n",
       "2  are you a morning person or a night owl i am 1...      1  \n",
       "3  ugh cant sleep sorry i always vent here stuff ...      1  \n",
       "4  that is had it constant battle everything need...      1  "
      ]
     },
     "execution_count": 4,
     "metadata": {},
     "output_type": "execute_result"
    }
   ],
   "source": [
    "df.head()"
   ]
  },
  {
   "cell_type": "code",
   "execution_count": 5,
   "id": "4de245af",
   "metadata": {},
   "outputs": [],
   "source": [
    "def get_clean(x):\n",
    "    x = str(x).lower().replace('\\\\', '').replace('_', ' ')\n",
    "    x = ps.cont_exp(x)\n",
    "    x = ps.remove_emails(x)\n",
    "    x = ps.remove_urls(x)\n",
    "    x = ps.remove_html_tags(x)\n",
    "    x = ps.remove_rt(x)\n",
    "    x = ps.remove_accented_chars(x)\n",
    "    x = ps.remove_special_chars(x)\n",
    "    x = re.sub(\"(.)\\\\1{2,}\", \"\\\\1\", x)\n",
    "    return x"
   ]
  },
  {
   "cell_type": "code",
   "execution_count": 6,
   "id": "39a986d1",
   "metadata": {},
   "outputs": [],
   "source": [
    "from sklearn.feature_extraction.text import TfidfVectorizer\n",
    "from sklearn.model_selection import train_test_split\n",
    "from sklearn.metrics import classification_report\n",
    "from sklearn.svm import LinearSVC"
   ]
  },
  {
   "cell_type": "code",
   "execution_count": 7,
   "id": "f6b4318b",
   "metadata": {},
   "outputs": [],
   "source": [
    "tfidf = TfidfVectorizer(max_features=20000, ngram_range=(1,3), analyzer='char')"
   ]
  },
  {
   "cell_type": "code",
   "execution_count": 8,
   "id": "99846f5a",
   "metadata": {},
   "outputs": [],
   "source": [
    "X = tfidf.fit_transform(df['text'])\n",
    "y = df['label']"
   ]
  },
  {
   "cell_type": "code",
   "execution_count": 9,
   "id": "6f505b49",
   "metadata": {},
   "outputs": [],
   "source": [
    "x_train, x_test, y_train, y_test = train_test_split(X,y, test_size=0.2, random_state=0)"
   ]
  },
  {
   "cell_type": "code",
   "execution_count": 10,
   "id": "43c07dfc",
   "metadata": {},
   "outputs": [
    {
     "data": {
      "text/html": [
       "<style>#sk-container-id-1 {color: black;background-color: white;}#sk-container-id-1 pre{padding: 0;}#sk-container-id-1 div.sk-toggleable {background-color: white;}#sk-container-id-1 label.sk-toggleable__label {cursor: pointer;display: block;width: 100%;margin-bottom: 0;padding: 0.3em;box-sizing: border-box;text-align: center;}#sk-container-id-1 label.sk-toggleable__label-arrow:before {content: \"▸\";float: left;margin-right: 0.25em;color: #696969;}#sk-container-id-1 label.sk-toggleable__label-arrow:hover:before {color: black;}#sk-container-id-1 div.sk-estimator:hover label.sk-toggleable__label-arrow:before {color: black;}#sk-container-id-1 div.sk-toggleable__content {max-height: 0;max-width: 0;overflow: hidden;text-align: left;background-color: #f0f8ff;}#sk-container-id-1 div.sk-toggleable__content pre {margin: 0.2em;color: black;border-radius: 0.25em;background-color: #f0f8ff;}#sk-container-id-1 input.sk-toggleable__control:checked~div.sk-toggleable__content {max-height: 200px;max-width: 100%;overflow: auto;}#sk-container-id-1 input.sk-toggleable__control:checked~label.sk-toggleable__label-arrow:before {content: \"▾\";}#sk-container-id-1 div.sk-estimator input.sk-toggleable__control:checked~label.sk-toggleable__label {background-color: #d4ebff;}#sk-container-id-1 div.sk-label input.sk-toggleable__control:checked~label.sk-toggleable__label {background-color: #d4ebff;}#sk-container-id-1 input.sk-hidden--visually {border: 0;clip: rect(1px 1px 1px 1px);clip: rect(1px, 1px, 1px, 1px);height: 1px;margin: -1px;overflow: hidden;padding: 0;position: absolute;width: 1px;}#sk-container-id-1 div.sk-estimator {font-family: monospace;background-color: #f0f8ff;border: 1px dotted black;border-radius: 0.25em;box-sizing: border-box;margin-bottom: 0.5em;}#sk-container-id-1 div.sk-estimator:hover {background-color: #d4ebff;}#sk-container-id-1 div.sk-parallel-item::after {content: \"\";width: 100%;border-bottom: 1px solid gray;flex-grow: 1;}#sk-container-id-1 div.sk-label:hover label.sk-toggleable__label {background-color: #d4ebff;}#sk-container-id-1 div.sk-serial::before {content: \"\";position: absolute;border-left: 1px solid gray;box-sizing: border-box;top: 0;bottom: 0;left: 50%;z-index: 0;}#sk-container-id-1 div.sk-serial {display: flex;flex-direction: column;align-items: center;background-color: white;padding-right: 0.2em;padding-left: 0.2em;position: relative;}#sk-container-id-1 div.sk-item {position: relative;z-index: 1;}#sk-container-id-1 div.sk-parallel {display: flex;align-items: stretch;justify-content: center;background-color: white;position: relative;}#sk-container-id-1 div.sk-item::before, #sk-container-id-1 div.sk-parallel-item::before {content: \"\";position: absolute;border-left: 1px solid gray;box-sizing: border-box;top: 0;bottom: 0;left: 50%;z-index: -1;}#sk-container-id-1 div.sk-parallel-item {display: flex;flex-direction: column;z-index: 1;position: relative;background-color: white;}#sk-container-id-1 div.sk-parallel-item:first-child::after {align-self: flex-end;width: 50%;}#sk-container-id-1 div.sk-parallel-item:last-child::after {align-self: flex-start;width: 50%;}#sk-container-id-1 div.sk-parallel-item:only-child::after {width: 0;}#sk-container-id-1 div.sk-dashed-wrapped {border: 1px dashed gray;margin: 0 0.4em 0.5em 0.4em;box-sizing: border-box;padding-bottom: 0.4em;background-color: white;}#sk-container-id-1 div.sk-label label {font-family: monospace;font-weight: bold;display: inline-block;line-height: 1.2em;}#sk-container-id-1 div.sk-label-container {text-align: center;}#sk-container-id-1 div.sk-container {/* jupyter's `normalize.less` sets `[hidden] { display: none; }` but bootstrap.min.css set `[hidden] { display: none !important; }` so we also need the `!important` here to be able to override the default hidden behavior on the sphinx rendered scikit-learn.org. See: https://github.com/scikit-learn/scikit-learn/issues/21755 */display: inline-block !important;position: relative;}#sk-container-id-1 div.sk-text-repr-fallback {display: none;}</style><div id=\"sk-container-id-1\" class=\"sk-top-container\"><div class=\"sk-text-repr-fallback\"><pre>LinearSVC()</pre><b>In a Jupyter environment, please rerun this cell to show the HTML representation or trust the notebook. <br />On GitHub, the HTML representation is unable to render, please try loading this page with nbviewer.org.</b></div><div class=\"sk-container\" hidden><div class=\"sk-item\"><div class=\"sk-estimator sk-toggleable\"><input class=\"sk-toggleable__control sk-hidden--visually\" id=\"sk-estimator-id-1\" type=\"checkbox\" checked><label for=\"sk-estimator-id-1\" class=\"sk-toggleable__label sk-toggleable__label-arrow\">LinearSVC</label><div class=\"sk-toggleable__content\"><pre>LinearSVC()</pre></div></div></div></div></div>"
      ],
      "text/plain": [
       "LinearSVC()"
      ]
     },
     "execution_count": 10,
     "metadata": {},
     "output_type": "execute_result"
    }
   ],
   "source": [
    "model = LinearSVC()\n",
    "model.fit(x_train,y_train)"
   ]
  },
  {
   "cell_type": "code",
   "execution_count": 11,
   "id": "2d93ae1e",
   "metadata": {},
   "outputs": [],
   "source": [
    "y_pred = model.predict(x_test)"
   ]
  },
  {
   "cell_type": "code",
   "execution_count": 12,
   "id": "218e0503",
   "metadata": {},
   "outputs": [
    {
     "name": "stdout",
     "output_type": "stream",
     "text": [
      "              precision    recall  f1-score   support\n",
      "\n",
      "           0       0.93      0.92      0.93      1143\n",
      "           1       0.92      0.93      0.93      1137\n",
      "\n",
      "    accuracy                           0.93      2280\n",
      "   macro avg       0.93      0.93      0.93      2280\n",
      "weighted avg       0.93      0.93      0.93      2280\n",
      "\n"
     ]
    }
   ],
   "source": [
    "print(classification_report(y_test,y_pred))"
   ]
  },
  {
   "cell_type": "code",
   "execution_count": 13,
   "id": "1e1ebf9a",
   "metadata": {},
   "outputs": [],
   "source": [
    "t = \"I would hear something that sound like a plane engine or like a really… you know… a really far off motor. It never went away entirely. It’s gone a lot more in the past couple of months since Christmas. It just sounds like that… it sounds like a little flame or a cellular… a digital motor\"\n",
    "u = \"Adults tell me(m15) some funny life stories of yours, give me life advice, all that stuff. I’m also trying to stop procrastinating so any advice on how to fix that would be great as well.\""
   ]
  },
  {
   "cell_type": "code",
   "execution_count": 14,
   "id": "0d7f8a38",
   "metadata": {},
   "outputs": [
    {
     "name": "stdout",
     "output_type": "stream",
     "text": [
      "<class 'str'>\n"
     ]
    }
   ],
   "source": [
    "print(type(t))"
   ]
  },
  {
   "cell_type": "code",
   "execution_count": 15,
   "id": "78d914c5",
   "metadata": {},
   "outputs": [],
   "source": [
    "def predict_tendency(model, x):\n",
    "    x = get_clean(x)\n",
    "    vec = tfidf.transform([x])\n",
    "    print(vec.shape)\n",
    "    if model.predict(vec)[0] == 1:\n",
    "        print(\"The model predicts the statement to be: Schizophrenic\")\n",
    "    else:\n",
    "        print(\"The model predicts the statement to be: Not Schizophrenic\")"
   ]
  },
  {
   "cell_type": "code",
   "execution_count": 16,
   "id": "2f81a53a",
   "metadata": {},
   "outputs": [
    {
     "name": "stdout",
     "output_type": "stream",
     "text": [
      "I would hear something that sound like a plane engine or like a really… you know… a really far off motor. It never went away entirely. It’s gone a lot more in the past couple of months since Christmas. It just sounds like that… it sounds like a little flame or a cellular… a digital motor\n",
      "-----------------------------------------------\n",
      "Adults tell me(m15) some funny life stories of yours, give me life advice, all that stuff. I’m also trying to stop procrastinating so any advice on how to fix that would be great as well.\n"
     ]
    }
   ],
   "source": [
    "print(t)\n",
    "print(\"-----------------------------------------------\")\n",
    "print(u)"
   ]
  },
  {
   "cell_type": "code",
   "execution_count": 19,
   "id": "4b2f03d1",
   "metadata": {},
   "outputs": [
    {
     "name": "stdout",
     "output_type": "stream",
     "text": [
      "(1, 15947)\n",
      "The model predicts the statement to be: Schizophrenic\n",
      "(1, 15947)\n",
      "The model predicts the statement to be: Not Schizophrenic\n"
     ]
    }
   ],
   "source": [
    "predict_tendency(model, t)\n",
    "predict_tendency(model, u)"
   ]
  },
  {
   "cell_type": "code",
   "execution_count": 18,
   "id": "f26fb66e",
   "metadata": {},
   "outputs": [
    {
     "name": "stdout",
     "output_type": "stream",
     "text": [
      "The accuracy of the model is:  92.71929824561404 %.\n"
     ]
    }
   ],
   "source": [
    "accuracy = model.score(x_test,y_test)\n",
    "print(\"The accuracy of the model is: \",accuracy*100,\"%.\")"
   ]
  },
  {
   "cell_type": "code",
   "execution_count": 49,
   "id": "ed096bd7",
   "metadata": {},
   "outputs": [],
   "source": [
    "#Saving Model\n",
    "import joblib\n",
    "# pkl_file = open(\"SchizoModel.pkl\",\"wb\")\n",
    "# joblib.dump(model,pkl_file)\n",
    "# pkl_file.close()"
   ]
  },
  {
   "cell_type": "code",
   "execution_count": 50,
   "id": "c840aa2b",
   "metadata": {},
   "outputs": [
    {
     "name": "stdout",
     "output_type": "stream",
     "text": [
      "(1, 15947)\n",
      "The model predicts the statement to be: Schizophrenic\n"
     ]
    },
    {
     "name": "stderr",
     "output_type": "stream",
     "text": [
      "/home/godofgeeks/miniconda3/lib/python3.9/site-packages/sklearn/base.py:299: UserWarning: Trying to unpickle estimator LinearSVC from version 1.0.2 when using version 1.2.1. This might lead to breaking code or invalid results. Use at your own risk. For more info please refer to:\n",
      "https://scikit-learn.org/stable/model_persistence.html#security-maintainability-limitations\n",
      "  warnings.warn(\n"
     ]
    }
   ],
   "source": [
    "thismodel = joblib.load(\"SchizoModel.pkl\")\n",
    "predict_tendency(thismodel, \"i am feeling very depressed today\")"
   ]
  },
  {
   "cell_type": "code",
   "execution_count": null,
   "id": "c0528e39",
   "metadata": {},
   "outputs": [],
   "source": []
  }
 ],
 "metadata": {
  "kernelspec": {
   "display_name": "Python 3 (ipykernel)",
   "language": "python",
   "name": "python3"
  },
  "language_info": {
   "codemirror_mode": {
    "name": "ipython",
    "version": 3
   },
   "file_extension": ".py",
   "mimetype": "text/x-python",
   "name": "python",
   "nbconvert_exporter": "python",
   "pygments_lexer": "ipython3",
   "version": "3.9.12"
  }
 },
 "nbformat": 4,
 "nbformat_minor": 5
}
