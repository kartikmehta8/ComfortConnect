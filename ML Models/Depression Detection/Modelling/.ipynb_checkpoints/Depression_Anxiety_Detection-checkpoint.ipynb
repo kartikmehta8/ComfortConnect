{
 "cells": [
  {
   "cell_type": "code",
   "execution_count": 12,
   "id": "03f72e27",
   "metadata": {},
   "outputs": [],
   "source": [
    "import re\n",
    "import numpy as np\n",
    "import pandas as pd\n",
    "import preprocess_kgptalkie as ps"
   ]
  },
  {
   "cell_type": "code",
   "execution_count": 7,
   "id": "cc317eb5",
   "metadata": {},
   "outputs": [
    {
     "name": "stdout",
     "output_type": "stream",
     "text": [
      "Requirement already satisfied: pip in c:\\users\\gaurisha r srivastav\\appdata\\local\\programs\\python\\python39\\lib\\site-packages (22.0.4)\n"
     ]
    }
   ],
   "source": [
    "!pip install --upgrade pip"
   ]
  },
  {
   "cell_type": "code",
   "execution_count": 9,
   "id": "5f1ec76d",
   "metadata": {
    "scrolled": true
   },
   "outputs": [
    {
     "name": "stdout",
     "output_type": "stream",
     "text": [
      "Requirement already satisfied: scikit-learn in c:\\users\\gaurisha r srivastav\\appdata\\local\\programs\\python\\python39\\lib\\site-packages (1.0.1)\n",
      "Collecting scikit-learn\n",
      "  Downloading scikit_learn-1.0.2-cp39-cp39-win_amd64.whl (7.2 MB)\n",
      "     ---------------------------------------- 7.2/7.2 MB 5.7 MB/s eta 0:00:00\n",
      "Requirement already satisfied: threadpoolctl>=2.0.0 in c:\\users\\gaurisha r srivastav\\appdata\\local\\programs\\python\\python39\\lib\\site-packages (from scikit-learn) (3.0.0)\n",
      "Requirement already satisfied: numpy>=1.14.6 in c:\\users\\gaurisha r srivastav\\appdata\\local\\programs\\python\\python39\\lib\\site-packages (from scikit-learn) (1.21.4)\n",
      "Requirement already satisfied: scipy>=1.1.0 in c:\\users\\gaurisha r srivastav\\appdata\\local\\programs\\python\\python39\\lib\\site-packages (from scikit-learn) (1.7.2)\n",
      "Requirement already satisfied: joblib>=0.11 in c:\\users\\gaurisha r srivastav\\appdata\\local\\programs\\python\\python39\\lib\\site-packages (from scikit-learn) (1.1.0)\n",
      "Installing collected packages: scikit-learn\n",
      "  Attempting uninstall: scikit-learn\n",
      "    Found existing installation: scikit-learn 1.0.1\n",
      "    Uninstalling scikit-learn-1.0.1:\n",
      "      Successfully uninstalled scikit-learn-1.0.1\n",
      "Successfully installed scikit-learn-1.0.2\n"
     ]
    }
   ],
   "source": [
    "!pip install scikit-learn --upgrade"
   ]
  },
  {
   "cell_type": "code",
   "execution_count": 13,
   "id": "aa255fbf",
   "metadata": {},
   "outputs": [],
   "source": [
    "df = pd.read_csv(\"dataset.csv\")"
   ]
  },
  {
   "cell_type": "code",
   "execution_count": 14,
   "id": "982bfb76",
   "metadata": {
    "scrolled": true
   },
   "outputs": [
    {
     "data": {
      "text/html": [
       "<div>\n",
       "<style scoped>\n",
       "    .dataframe tbody tr th:only-of-type {\n",
       "        vertical-align: middle;\n",
       "    }\n",
       "\n",
       "    .dataframe tbody tr th {\n",
       "        vertical-align: top;\n",
       "    }\n",
       "\n",
       "    .dataframe thead th {\n",
       "        text-align: right;\n",
       "    }\n",
       "</style>\n",
       "<table border=\"1\" class=\"dataframe\">\n",
       "  <thead>\n",
       "    <tr style=\"text-align: right;\">\n",
       "      <th></th>\n",
       "      <th>author</th>\n",
       "      <th>date</th>\n",
       "      <th>title</th>\n",
       "      <th>selftext</th>\n",
       "      <th>text</th>\n",
       "      <th>label</th>\n",
       "    </tr>\n",
       "  </thead>\n",
       "  <tbody>\n",
       "    <tr>\n",
       "      <th>0</th>\n",
       "      <td>Expertdeadlygamer</td>\n",
       "      <td>2021-04-30 18:24:06+00:00</td>\n",
       "      <td>my daughter wanted her body painted by chalk</td>\n",
       "      <td>she said chalk me daddy</td>\n",
       "      <td>my daughter wanted her body painted by chalk s...</td>\n",
       "      <td>0</td>\n",
       "    </tr>\n",
       "    <tr>\n",
       "      <th>1</th>\n",
       "      <td>crazyfortaco</td>\n",
       "      <td>2021-04-30 18:16:05+00:00</td>\n",
       "      <td>the longest drum solo was 10 hours and 26 minutes</td>\n",
       "      <td>and it was performed by the child sitting behi...</td>\n",
       "      <td>the longest drum solo was 10 hours and 26 minu...</td>\n",
       "      <td>0</td>\n",
       "    </tr>\n",
       "    <tr>\n",
       "      <th>2</th>\n",
       "      <td>shirokan__</td>\n",
       "      <td>2021-04-30 18:15:07+00:00</td>\n",
       "      <td>did you hear about the claustrophobic astronaut</td>\n",
       "      <td>he just needed a little space</td>\n",
       "      <td>did you hear about the claustrophobic astronau...</td>\n",
       "      <td>0</td>\n",
       "    </tr>\n",
       "    <tr>\n",
       "      <th>3</th>\n",
       "      <td>TrentRizzo</td>\n",
       "      <td>2021-04-30 18:04:33+00:00</td>\n",
       "      <td>breaking bad</td>\n",
       "      <td>i was talking to someone about breaking bad an...</td>\n",
       "      <td>breaking bad i was talking to someone about br...</td>\n",
       "      <td>0</td>\n",
       "    </tr>\n",
       "    <tr>\n",
       "      <th>4</th>\n",
       "      <td>Phil_82</td>\n",
       "      <td>2021-04-30 18:03:07+00:00</td>\n",
       "      <td>a wife waits outside the doctors office while ...</td>\n",
       "      <td>wife honey whats wronghusband the doc told me ...</td>\n",
       "      <td>a wife waits outside the doctors office while ...</td>\n",
       "      <td>0</td>\n",
       "    </tr>\n",
       "    <tr>\n",
       "      <th>...</th>\n",
       "      <td>...</td>\n",
       "      <td>...</td>\n",
       "      <td>...</td>\n",
       "      <td>...</td>\n",
       "      <td>...</td>\n",
       "      <td>...</td>\n",
       "    </tr>\n",
       "    <tr>\n",
       "      <th>11208</th>\n",
       "      <td>kprincess77</td>\n",
       "      <td>2021-10-04 21:23:23+00:00</td>\n",
       "      <td>i do not know why</td>\n",
       "      <td>i have been depressed for years i try to put o...</td>\n",
       "      <td>i have been depressed for years i try to put o...</td>\n",
       "      <td>2</td>\n",
       "    </tr>\n",
       "    <tr>\n",
       "      <th>11209</th>\n",
       "      <td>Routine_Specific_892</td>\n",
       "      <td>2021-10-04 20:03:01+00:00</td>\n",
       "      <td>i cant cry</td>\n",
       "      <td>im pretty sure im depressed that is took some ...</td>\n",
       "      <td>im pretty sure im depressed that is took some ...</td>\n",
       "      <td>2</td>\n",
       "    </tr>\n",
       "    <tr>\n",
       "      <th>11210</th>\n",
       "      <td>SuckingGodsFinger</td>\n",
       "      <td>2021-10-04 18:26:35+00:00</td>\n",
       "      <td>here for all</td>\n",
       "      <td>i have battled depression my whole life and ne...</td>\n",
       "      <td>i have battled depression my whole life and ne...</td>\n",
       "      <td>2</td>\n",
       "    </tr>\n",
       "    <tr>\n",
       "      <th>11211</th>\n",
       "      <td>Char0089</td>\n",
       "      <td>2021-10-04 18:01:15+00:00</td>\n",
       "      <td>i think i am finally making progress</td>\n",
       "      <td>when i look back on my journey through mental ...</td>\n",
       "      <td>when i look back on my journey through mental ...</td>\n",
       "      <td>2</td>\n",
       "    </tr>\n",
       "    <tr>\n",
       "      <th>11212</th>\n",
       "      <td>user417417</td>\n",
       "      <td>2021-10-04 17:23:46+00:00</td>\n",
       "      <td>depressed partner 24m broke up with me</td>\n",
       "      <td>my partner just ended our four year relationsh...</td>\n",
       "      <td>my partner just ended our four year relationsh...</td>\n",
       "      <td>2</td>\n",
       "    </tr>\n",
       "  </tbody>\n",
       "</table>\n",
       "<p>11213 rows × 6 columns</p>\n",
       "</div>"
      ],
      "text/plain": [
       "                     author                       date  \\\n",
       "0         Expertdeadlygamer  2021-04-30 18:24:06+00:00   \n",
       "1              crazyfortaco  2021-04-30 18:16:05+00:00   \n",
       "2                shirokan__  2021-04-30 18:15:07+00:00   \n",
       "3                TrentRizzo  2021-04-30 18:04:33+00:00   \n",
       "4                   Phil_82  2021-04-30 18:03:07+00:00   \n",
       "...                     ...                        ...   \n",
       "11208           kprincess77  2021-10-04 21:23:23+00:00   \n",
       "11209  Routine_Specific_892  2021-10-04 20:03:01+00:00   \n",
       "11210     SuckingGodsFinger  2021-10-04 18:26:35+00:00   \n",
       "11211              Char0089  2021-10-04 18:01:15+00:00   \n",
       "11212            user417417  2021-10-04 17:23:46+00:00   \n",
       "\n",
       "                                                   title  \\\n",
       "0           my daughter wanted her body painted by chalk   \n",
       "1      the longest drum solo was 10 hours and 26 minutes   \n",
       "2        did you hear about the claustrophobic astronaut   \n",
       "3                                           breaking bad   \n",
       "4      a wife waits outside the doctors office while ...   \n",
       "...                                                  ...   \n",
       "11208                                  i do not know why   \n",
       "11209                                         i cant cry   \n",
       "11210                                       here for all   \n",
       "11211               i think i am finally making progress   \n",
       "11212             depressed partner 24m broke up with me   \n",
       "\n",
       "                                                selftext  \\\n",
       "0                                she said chalk me daddy   \n",
       "1      and it was performed by the child sitting behi...   \n",
       "2                          he just needed a little space   \n",
       "3      i was talking to someone about breaking bad an...   \n",
       "4      wife honey whats wronghusband the doc told me ...   \n",
       "...                                                  ...   \n",
       "11208  i have been depressed for years i try to put o...   \n",
       "11209  im pretty sure im depressed that is took some ...   \n",
       "11210  i have battled depression my whole life and ne...   \n",
       "11211  when i look back on my journey through mental ...   \n",
       "11212  my partner just ended our four year relationsh...   \n",
       "\n",
       "                                                    text  label  \n",
       "0      my daughter wanted her body painted by chalk s...      0  \n",
       "1      the longest drum solo was 10 hours and 26 minu...      0  \n",
       "2      did you hear about the claustrophobic astronau...      0  \n",
       "3      breaking bad i was talking to someone about br...      0  \n",
       "4      a wife waits outside the doctors office while ...      0  \n",
       "...                                                  ...    ...  \n",
       "11208  i have been depressed for years i try to put o...      2  \n",
       "11209  im pretty sure im depressed that is took some ...      2  \n",
       "11210  i have battled depression my whole life and ne...      2  \n",
       "11211  when i look back on my journey through mental ...      2  \n",
       "11212  my partner just ended our four year relationsh...      2  \n",
       "\n",
       "[11213 rows x 6 columns]"
      ]
     },
     "execution_count": 14,
     "metadata": {},
     "output_type": "execute_result"
    }
   ],
   "source": [
    "df"
   ]
  },
  {
   "cell_type": "code",
   "execution_count": 15,
   "id": "4de245af",
   "metadata": {},
   "outputs": [],
   "source": [
    "def get_clean(x):\n",
    "    x = str(x).lower().replace('\\\\', '').replace('_', ' ')\n",
    "    x = ps.cont_exp(x)\n",
    "    x = ps.remove_emails(x)\n",
    "    x = ps.remove_urls(x)\n",
    "    x = ps.remove_html_tags(x)\n",
    "    x = ps.remove_rt(x)\n",
    "    x = ps.remove_accented_chars(x)\n",
    "    x = ps.remove_special_chars(x)\n",
    "    x = re.sub(\"(.)\\\\1{2,}\", \"\\\\1\", x)\n",
    "    return x"
   ]
  },
  {
   "cell_type": "code",
   "execution_count": 16,
   "id": "39a986d1",
   "metadata": {},
   "outputs": [],
   "source": [
    "from sklearn.feature_extraction.text import TfidfVectorizer\n",
    "from sklearn.model_selection import train_test_split\n",
    "from sklearn.metrics import classification_report\n",
    "from sklearn.svm import LinearSVC"
   ]
  },
  {
   "cell_type": "code",
   "execution_count": 17,
   "id": "f6b4318b",
   "metadata": {},
   "outputs": [],
   "source": [
    "tfidf = TfidfVectorizer(max_features=20000, ngram_range=(1,3), analyzer='char')"
   ]
  },
  {
   "cell_type": "code",
   "execution_count": 18,
   "id": "99846f5a",
   "metadata": {},
   "outputs": [],
   "source": [
    "X = tfidf.fit_transform(df['text'])\n",
    "y = df['label']"
   ]
  },
  {
   "cell_type": "code",
   "execution_count": 19,
   "id": "6f505b49",
   "metadata": {},
   "outputs": [],
   "source": [
    "x_train, x_test, y_train, y_test = train_test_split(X,y, test_size=0.2, random_state=0)"
   ]
  },
  {
   "cell_type": "code",
   "execution_count": 20,
   "id": "43c07dfc",
   "metadata": {},
   "outputs": [
    {
     "data": {
      "text/plain": [
       "LinearSVC()"
      ]
     },
     "execution_count": 20,
     "metadata": {},
     "output_type": "execute_result"
    }
   ],
   "source": [
    "model = LinearSVC()\n",
    "model.fit(x_train,y_train)"
   ]
  },
  {
   "cell_type": "code",
   "execution_count": 21,
   "id": "2d93ae1e",
   "metadata": {},
   "outputs": [],
   "source": [
    "y_pred = model.predict(x_test)"
   ]
  },
  {
   "cell_type": "code",
   "execution_count": 22,
   "id": "218e0503",
   "metadata": {},
   "outputs": [
    {
     "name": "stdout",
     "output_type": "stream",
     "text": [
      "              precision    recall  f1-score   support\n",
      "\n",
      "           0       0.90      0.93      0.91       723\n",
      "           1       0.92      0.85      0.88       748\n",
      "           2       0.87      0.91      0.89       772\n",
      "\n",
      "    accuracy                           0.90      2243\n",
      "   macro avg       0.90      0.90      0.90      2243\n",
      "weighted avg       0.90      0.90      0.90      2243\n",
      "\n"
     ]
    }
   ],
   "source": [
    "print(classification_report(y_test,y_pred))"
   ]
  },
  {
   "cell_type": "code",
   "execution_count": 23,
   "id": "1e1ebf9a",
   "metadata": {},
   "outputs": [],
   "source": [
    "t = \"My whole life has just been mistakes and failings. When I look back on my past it’s all I see. When I look toward the future it’s all I see. I truly am an idiot and a fuckup. I am often called a loser or other such things. No use in disagreeing with the truth. Things could have been different if I had used my brain, but I’m clearly too stupid for that. I wish I could be saved, to be happy, and for others to be happy too.\"\n",
    "u = \"If that makes any sense. I'm just constantly checking myself for symptoms, constantly worrying about panic attacks. I'm horribly afraid that I'm losing my mind. The worst thing is that thinking about it makes everything 10x worst, and all I can do is think about it whenever I'm alone. I feel disabled by my own mind. I feel like I've lost my freedom.\"\n",
    "v = \"Adults tell me(m15) some funny life stories of yours, give me life advice, all that stuff. I’m also trying to stop procrastinating so any advice on how to fix that would be great as well.\""
   ]
  },
  {
   "cell_type": "code",
   "execution_count": 24,
   "id": "78d914c5",
   "metadata": {},
   "outputs": [],
   "source": [
    "def predict_tendency(x):\n",
    "    x = get_clean(x)\n",
    "    vec = tfidf.transform([x])\n",
    "    if model.predict(vec)[0] == 1:\n",
    "        print(\"The model predicts the statement to be: Anxious\")\n",
    "    elif model.predict(vec)[0] == 2:\n",
    "        print(\"The model predicts the statement to be: Depressed\")\n",
    "    else:\n",
    "        print(\"The model predicts the statement to be: Normal\")"
   ]
  },
  {
   "cell_type": "code",
   "execution_count": 25,
   "id": "2f81a53a",
   "metadata": {},
   "outputs": [
    {
     "name": "stdout",
     "output_type": "stream",
     "text": [
      "My whole life has just been mistakes and failings. When I look back on my past it’s all I see. When I look toward the future it’s all I see. I truly am an idiot and a fuckup. I am often called a loser or other such things. No use in disagreeing with the truth. Things could have been different if I had used my brain, but I’m clearly too stupid for that. I wish I could be saved, to be happy, and for others to be happy too.\n",
      "-----------------------------------------------\n",
      "If that makes any sense. I'm just constantly checking myself for symptoms, constantly worrying about panic attacks. I'm horribly afraid that I'm losing my mind. The worst thing is that thinking about it makes everything 10x worst, and all I can do is think about it whenever I'm alone. I feel disabled by my own mind. I feel like I've lost my freedom.\n",
      "-----------------------------------------------\n",
      "Adults tell me(m15) some funny life stories of yours, give me life advice, all that stuff. I’m also trying to stop procrastinating so any advice on how to fix that would be great as well.\n"
     ]
    }
   ],
   "source": [
    "print(t)\n",
    "print(\"-----------------------------------------------\")\n",
    "print(u)\n",
    "print(\"-----------------------------------------------\")\n",
    "print(v)"
   ]
  },
  {
   "cell_type": "code",
   "execution_count": 26,
   "id": "4b2f03d1",
   "metadata": {},
   "outputs": [
    {
     "name": "stdout",
     "output_type": "stream",
     "text": [
      "The model predicts the statement to be: Depressed\n",
      "The model predicts the statement to be: Anxious\n",
      "The model predicts the statement to be: Normal\n"
     ]
    }
   ],
   "source": [
    "predict_tendency(t)\n",
    "predict_tendency(u)\n",
    "predict_tendency(v)"
   ]
  },
  {
   "cell_type": "code",
   "execution_count": 27,
   "id": "f26fb66e",
   "metadata": {},
   "outputs": [
    {
     "name": "stdout",
     "output_type": "stream",
     "text": [
      "The accuracy of the model is:  89.52296032099866 %.\n"
     ]
    }
   ],
   "source": [
    "accuracy = model.score(x_test,y_test)\n",
    "print(\"The accuracy of the model is: \",accuracy*100,\"%.\")"
   ]
  },
  {
   "cell_type": "code",
   "execution_count": 28,
   "id": "2cfb92f4",
   "metadata": {},
   "outputs": [],
   "source": [
    "#Saving Model\n",
    "import joblib\n",
    "pkl_file = open(\"DepressionModel.pkl\",\"wb\")\n",
    "joblib.dump(model,pkl_file)\n",
    "pkl_file.close()"
   ]
  }
 ],
 "metadata": {
  "kernelspec": {
   "display_name": "Python 3 (ipykernel)",
   "language": "python",
   "name": "python3"
  },
  "language_info": {
   "codemirror_mode": {
    "name": "ipython",
    "version": 3
   },
   "file_extension": ".py",
   "mimetype": "text/x-python",
   "name": "python",
   "nbconvert_exporter": "python",
   "pygments_lexer": "ipython3",
   "version": "3.9.5"
  }
 },
 "nbformat": 4,
 "nbformat_minor": 5
}
