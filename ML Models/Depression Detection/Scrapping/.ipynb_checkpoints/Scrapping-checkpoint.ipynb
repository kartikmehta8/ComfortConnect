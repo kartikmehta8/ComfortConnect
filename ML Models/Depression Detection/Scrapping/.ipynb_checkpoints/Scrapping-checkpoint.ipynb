{
 "cells": [
  {
   "cell_type": "code",
   "execution_count": 1,
   "id": "dd834d6e",
   "metadata": {},
   "outputs": [],
   "source": [
    "import pandas as pd\n",
    "import datetime as dt"
   ]
  },
  {
   "cell_type": "code",
   "execution_count": 2,
   "id": "4fe86025",
   "metadata": {},
   "outputs": [],
   "source": [
    "from psaw import PushshiftAPI\n",
    "\n",
    "# Initialize PushShift\n",
    "api = PushshiftAPI()"
   ]
  },
  {
   "cell_type": "code",
   "execution_count": 3,
   "id": "108ae59f",
   "metadata": {},
   "outputs": [],
   "source": [
    "start_epoch=int(dt.datetime(2022, 3, 15).timestamp())"
   ]
  },
  {
   "cell_type": "code",
   "execution_count": 13,
   "id": "73f683cd",
   "metadata": {},
   "outputs": [],
   "source": [
    "api_request_generator = api.search_submissions(before=start_epoch, subreddit='Anxiety', limit=5000)"
   ]
  },
  {
   "cell_type": "code",
   "execution_count": 14,
   "id": "850d0f00",
   "metadata": {},
   "outputs": [
    {
     "name": "stderr",
     "output_type": "stream",
     "text": [
      "C:\\Users\\Gaurisha R Srivastav\\AppData\\Local\\Programs\\Python\\Python39\\lib\\site-packages\\psaw\\PushshiftAPI.py:252: UserWarning: Not all PushShift shards are active. Query results may be incomplete\n",
      "  warnings.warn(shards_down_message)\n"
     ]
    }
   ],
   "source": [
    "aita_submissions = pd.DataFrame([submission.d_ for submission in api_request_generator])"
   ]
  },
  {
   "cell_type": "code",
   "execution_count": 15,
   "id": "ea4c052e",
   "metadata": {},
   "outputs": [
    {
     "name": "stdout",
     "output_type": "stream",
     "text": [
      "Index(['all_awardings', 'allow_live_comments', 'author',\n",
      "       'author_flair_css_class', 'author_flair_richtext', 'author_flair_text',\n",
      "       'author_flair_type', 'author_fullname', 'author_is_blocked',\n",
      "       'author_patreon_flair', 'author_premium', 'awarders', 'can_mod_post',\n",
      "       'contest_mode', 'created_utc', 'domain', 'full_link', 'gildings', 'id',\n",
      "       'is_created_from_ads_ui', 'is_crosspostable', 'is_meta',\n",
      "       'is_original_content', 'is_reddit_media_domain', 'is_robot_indexable',\n",
      "       'is_self', 'is_video', 'link_flair_background_color',\n",
      "       'link_flair_css_class', 'link_flair_richtext', 'link_flair_template_id',\n",
      "       'link_flair_text', 'link_flair_text_color', 'link_flair_type', 'locked',\n",
      "       'media_only', 'no_follow', 'num_comments', 'num_crossposts', 'over_18',\n",
      "       'parent_whitelist_status', 'permalink', 'pinned', 'pwls',\n",
      "       'retrieved_on', 'score', 'selftext', 'send_replies', 'spoiler',\n",
      "       'stickied', 'subreddit', 'subreddit_id', 'subreddit_subscribers',\n",
      "       'subreddit_type', 'thumbnail', 'title', 'total_awards_received',\n",
      "       'treatment_tags', 'upvote_ratio', 'url', 'whitelist_status', 'wls',\n",
      "       'created', 'author_flair_template_id', 'author_flair_text_color',\n",
      "       'removed_by_category', 'post_hint', 'preview', 'author_cakeday',\n",
      "       'call_to_action', 'category', 'author_flair_background_color',\n",
      "       'suggested_sort'],\n",
      "      dtype='object')\n"
     ]
    }
   ],
   "source": [
    "print(aita_submissions.columns)"
   ]
  },
  {
   "cell_type": "code",
   "execution_count": 18,
   "id": "3765541a",
   "metadata": {},
   "outputs": [],
   "source": [
    "aita_submissions['date'] = pd.to_datetime(aita_submissions['created_utc'], utc=True, unit='s')"
   ]
  },
  {
   "cell_type": "code",
   "execution_count": 19,
   "id": "d3e93ec5",
   "metadata": {},
   "outputs": [],
   "source": [
    "anxiety = pd.DataFrame(aita_submissions[['link_flair_text','author', 'date', 'title', 'selftext']])"
   ]
  },
  {
   "cell_type": "code",
   "execution_count": 20,
   "id": "bf34df96",
   "metadata": {},
   "outputs": [
    {
     "data": {
      "text/html": [
       "<div>\n",
       "<style scoped>\n",
       "    .dataframe tbody tr th:only-of-type {\n",
       "        vertical-align: middle;\n",
       "    }\n",
       "\n",
       "    .dataframe tbody tr th {\n",
       "        vertical-align: top;\n",
       "    }\n",
       "\n",
       "    .dataframe thead th {\n",
       "        text-align: right;\n",
       "    }\n",
       "</style>\n",
       "<table border=\"1\" class=\"dataframe\">\n",
       "  <thead>\n",
       "    <tr style=\"text-align: right;\">\n",
       "      <th></th>\n",
       "      <th>link_flair_text</th>\n",
       "      <th>author</th>\n",
       "      <th>date</th>\n",
       "      <th>title</th>\n",
       "      <th>selftext</th>\n",
       "    </tr>\n",
       "  </thead>\n",
       "  <tbody>\n",
       "    <tr>\n",
       "      <th>0</th>\n",
       "      <td>Helpful Tips!</td>\n",
       "      <td>Repulsive-Mixture348</td>\n",
       "      <td>2022-03-14 18:29:20+00:00</td>\n",
       "      <td>Get you Iron Levels, Vitamin D, Thyroid, B Vit...</td>\n",
       "      <td>Just a reminder, if you are experiencing Anxie...</td>\n",
       "    </tr>\n",
       "    <tr>\n",
       "      <th>1</th>\n",
       "      <td>Needs A Hug/Support</td>\n",
       "      <td>No-Satisfaction1984</td>\n",
       "      <td>2022-03-14 18:25:59+00:00</td>\n",
       "      <td>I feel aa if i am drowning my parent’s image a...</td>\n",
       "      <td></td>\n",
       "    </tr>\n",
       "    <tr>\n",
       "      <th>2</th>\n",
       "      <td>Venting</td>\n",
       "      <td>glitchforza</td>\n",
       "      <td>2022-03-14 18:23:02+00:00</td>\n",
       "      <td>when I start to worry, my skin itches undernea...</td>\n",
       "      <td></td>\n",
       "    </tr>\n",
       "    <tr>\n",
       "      <th>3</th>\n",
       "      <td>Venting</td>\n",
       "      <td>nobody12371616817163</td>\n",
       "      <td>2022-03-14 18:02:48+00:00</td>\n",
       "      <td>Starting to realize and accept I have an anxie...</td>\n",
       "      <td>Never thought i had one but recently, with thi...</td>\n",
       "    </tr>\n",
       "    <tr>\n",
       "      <th>4</th>\n",
       "      <td>Advice Needed</td>\n",
       "      <td>Workinformca1974</td>\n",
       "      <td>2022-03-14 17:57:23+00:00</td>\n",
       "      <td>Overcoming flying/heights anxiety to go across...</td>\n",
       "      <td>I’m almost 34, have terrible anxiety and fear ...</td>\n",
       "    </tr>\n",
       "    <tr>\n",
       "      <th>5</th>\n",
       "      <td>Venting</td>\n",
       "      <td>Alliedoll42_42</td>\n",
       "      <td>2022-03-14 17:48:13+00:00</td>\n",
       "      <td>I'm a sad sad bunny</td>\n",
       "      <td>My husband has been in the hospital for three ...</td>\n",
       "    </tr>\n",
       "    <tr>\n",
       "      <th>6</th>\n",
       "      <td>Driving</td>\n",
       "      <td>Secret-Interest161</td>\n",
       "      <td>2022-03-14 17:39:04+00:00</td>\n",
       "      <td>Guilt and fear about last night of drinking</td>\n",
       "      <td>So I drank last night and was stupid and drove...</td>\n",
       "    </tr>\n",
       "    <tr>\n",
       "      <th>7</th>\n",
       "      <td>Venting</td>\n",
       "      <td>skywacca</td>\n",
       "      <td>2022-03-14 17:29:25+00:00</td>\n",
       "      <td>I’m 28 and I feel like time is running out</td>\n",
       "      <td>I’m hard on myself to begin with, but it’s got...</td>\n",
       "    </tr>\n",
       "    <tr>\n",
       "      <th>8</th>\n",
       "      <td>Health</td>\n",
       "      <td>Kiwiisaberry18</td>\n",
       "      <td>2022-03-14 17:29:13+00:00</td>\n",
       "      <td>H</td>\n",
       "      <td></td>\n",
       "    </tr>\n",
       "    <tr>\n",
       "      <th>9</th>\n",
       "      <td>Family/Relationship</td>\n",
       "      <td>Distinct-Air-1046</td>\n",
       "      <td>2022-03-14 17:28:40+00:00</td>\n",
       "      <td>Anxious for a couple of days now</td>\n",
       "      <td>I keep thinking my friend is upset at me( we g...</td>\n",
       "    </tr>\n",
       "  </tbody>\n",
       "</table>\n",
       "</div>"
      ],
      "text/plain": [
       "       link_flair_text                author                      date  \\\n",
       "0        Helpful Tips!  Repulsive-Mixture348 2022-03-14 18:29:20+00:00   \n",
       "1  Needs A Hug/Support   No-Satisfaction1984 2022-03-14 18:25:59+00:00   \n",
       "2              Venting           glitchforza 2022-03-14 18:23:02+00:00   \n",
       "3              Venting  nobody12371616817163 2022-03-14 18:02:48+00:00   \n",
       "4        Advice Needed      Workinformca1974 2022-03-14 17:57:23+00:00   \n",
       "5              Venting        Alliedoll42_42 2022-03-14 17:48:13+00:00   \n",
       "6              Driving    Secret-Interest161 2022-03-14 17:39:04+00:00   \n",
       "7              Venting              skywacca 2022-03-14 17:29:25+00:00   \n",
       "8               Health        Kiwiisaberry18 2022-03-14 17:29:13+00:00   \n",
       "9  Family/Relationship     Distinct-Air-1046 2022-03-14 17:28:40+00:00   \n",
       "\n",
       "                                               title  \\\n",
       "0  Get you Iron Levels, Vitamin D, Thyroid, B Vit...   \n",
       "1  I feel aa if i am drowning my parent’s image a...   \n",
       "2  when I start to worry, my skin itches undernea...   \n",
       "3  Starting to realize and accept I have an anxie...   \n",
       "4  Overcoming flying/heights anxiety to go across...   \n",
       "5                                I'm a sad sad bunny   \n",
       "6        Guilt and fear about last night of drinking   \n",
       "7         I’m 28 and I feel like time is running out   \n",
       "8                                                  H   \n",
       "9                   Anxious for a couple of days now   \n",
       "\n",
       "                                            selftext  \n",
       "0  Just a reminder, if you are experiencing Anxie...  \n",
       "1                                                     \n",
       "2                                                     \n",
       "3  Never thought i had one but recently, with thi...  \n",
       "4  I’m almost 34, have terrible anxiety and fear ...  \n",
       "5  My husband has been in the hospital for three ...  \n",
       "6  So I drank last night and was stupid and drove...  \n",
       "7  I’m hard on myself to begin with, but it’s got...  \n",
       "8                                                     \n",
       "9  I keep thinking my friend is upset at me( we g...  "
      ]
     },
     "execution_count": 20,
     "metadata": {},
     "output_type": "execute_result"
    }
   ],
   "source": [
    "anxiety.head(10)"
   ]
  },
  {
   "cell_type": "code",
   "execution_count": 21,
   "id": "6f3ff6b8",
   "metadata": {},
   "outputs": [],
   "source": [
    "anxiety.to_csv('anxiety.csv', mode='a', index=False, header=True)"
   ]
  },
  {
   "cell_type": "code",
   "execution_count": null,
   "id": "4739b6fd",
   "metadata": {},
   "outputs": [],
   "source": []
  }
 ],
 "metadata": {
  "kernelspec": {
   "display_name": "Python 3 (ipykernel)",
   "language": "python",
   "name": "python3"
  },
  "language_info": {
   "codemirror_mode": {
    "name": "ipython",
    "version": 3
   },
   "file_extension": ".py",
   "mimetype": "text/x-python",
   "name": "python",
   "nbconvert_exporter": "python",
   "pygments_lexer": "ipython3",
   "version": "3.9.5"
  }
 },
 "nbformat": 4,
 "nbformat_minor": 5
}
